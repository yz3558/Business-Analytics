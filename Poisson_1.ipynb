{
 "cells": [
  {
   "cell_type": "code",
   "execution_count": 54,
   "metadata": {},
   "outputs": [],
   "source": [
    "import pandas as pd\n",
    "from statsmodels.formula.api import poisson\n",
    "import numpy as np\n",
    "import scipy.special as spsp\n",
    "import matplotlib.pyplot as plt\n",
    "%matplotlib inline\n",
    "from ipywidgets import *\n",
    "from ipywidgets import widgets\n",
    "import plotly.graph_objs as go\n",
    "\n"
   ]
  },
  {
   "cell_type": "code",
   "execution_count": 2,
   "metadata": {},
   "outputs": [
    {
     "data": {
      "text/html": [
       "<div>\n",
       "<style scoped>\n",
       "    .dataframe tbody tr th:only-of-type {\n",
       "        vertical-align: middle;\n",
       "    }\n",
       "\n",
       "    .dataframe tbody tr th {\n",
       "        vertical-align: top;\n",
       "    }\n",
       "\n",
       "    .dataframe thead th {\n",
       "        text-align: right;\n",
       "    }\n",
       "</style>\n",
       "<table border=\"1\" class=\"dataframe\">\n",
       "  <thead>\n",
       "    <tr style=\"text-align: right;\">\n",
       "      <th></th>\n",
       "      <th>Cookie_ID</th>\n",
       "      <th>Exposures</th>\n",
       "    </tr>\n",
       "  </thead>\n",
       "  <tbody>\n",
       "    <tr>\n",
       "      <th>0</th>\n",
       "      <td>1</td>\n",
       "      <td>0</td>\n",
       "    </tr>\n",
       "    <tr>\n",
       "      <th>1</th>\n",
       "      <td>2</td>\n",
       "      <td>0</td>\n",
       "    </tr>\n",
       "    <tr>\n",
       "      <th>2</th>\n",
       "      <td>3</td>\n",
       "      <td>3</td>\n",
       "    </tr>\n",
       "    <tr>\n",
       "      <th>3</th>\n",
       "      <td>4</td>\n",
       "      <td>49</td>\n",
       "    </tr>\n",
       "    <tr>\n",
       "      <th>4</th>\n",
       "      <td>5</td>\n",
       "      <td>4</td>\n",
       "    </tr>\n",
       "  </tbody>\n",
       "</table>\n",
       "</div>"
      ],
      "text/plain": [
       "   Cookie_ID  Exposures\n",
       "0          1          0\n",
       "1          2          0\n",
       "2          3          3\n",
       "3          4         49\n",
       "4          5          4"
      ]
     },
     "execution_count": 2,
     "metadata": {},
     "output_type": "execute_result"
    }
   ],
   "source": [
    "Ads=pd.read_csv(\"Ad_Exposure.csv\")\n",
    "Ads.head()"
   ]
  },
  {
   "cell_type": "code",
   "execution_count": 65,
   "metadata": {},
   "outputs": [
    {
     "data": {
      "application/vnd.jupyter.widget-view+json": {
       "model_id": "67a44e78fd2b4d2f80193419207c1bdc",
       "version_major": 2,
       "version_minor": 0
      },
      "text/plain": [
       "VBox(children=(HBox(children=(FloatSlider(value=2.0, continuous_update=False, description='λ value', max=10.0,…"
      ]
     },
     "metadata": {},
     "output_type": "display_data"
    }
   ],
   "source": [
    "values,frequency=np.unique(Ads.Exposures, return_counts=True)\n",
    "prob=frequence/np.sum(frequency)\n",
    "\n",
    "\n",
    "def initialize():\n",
    "    n = widgets.FloatSlider(\n",
    "        value=2.0,\n",
    "        min=0.01,\n",
    "        max=10.0,\n",
    "        step=0.01,\n",
    "        description='λ value',\n",
    "        continuous_update=False\n",
    "    )\n",
    " \n",
    "    lmbda=n.value\n",
    "    y=np.arange(0,np.max(Ads[\"Exposures\"])+1)\n",
    "    Poisson_PMF=np.exp(-lmbda)*lmbda**y/spsp.factorial(y)\n",
    "    #plot the sample distribution\n",
    "    outcomes, counts=np.unique(Ads[\"Exposures\"],return_counts=True)    \n",
    "  \n",
    "    # Assign an empty figure widget with two traces\n",
    "    trace1=go.Scatter(x=y,y=Poisson_PMF,mode='lines+markers', hoverinfo=\"x\", marker=dict(size=5),name=\"fitted line\")\n",
    "    trace2=go.Bar(x=values,y=prob, name=\"empirical distribution\" )\n",
    "    g = go.FigureWidget(data=[trace1,trace2],\n",
    "                        layout=go.Layout(\n",
    "                            title=dict(text='Finding λ for emprical data', y = 0.9),\n",
    "                            xaxis = dict(title = \"λ\", range = [-0.2,40]),\n",
    "                            yaxis = dict(title = \"\", range = [-0.1,0.7],showticklabels=False),\n",
    "                            hovermode=None,\n",
    "                            margin={'l': 0, 'r': 0, 't': 20, 'b': 0},width=500, height=300\n",
    "                        ))\n",
    "\n",
    "    return n,g\n",
    "    \n",
    "n,g=initialize()\n",
    " \n",
    "def response(change ):\n",
    "    lmbda=n.value\n",
    "    y=np.arange(0,np.max(Ads[\"Exposures\"])+1)\n",
    "    Poisson_PMF=np.exp(-lmbda)*lmbda**y/spsp.factorial(y)\n",
    "    \n",
    "    with g.batch_update():\n",
    "         \n",
    "        g.data[0].y = Poisson_PMF\n",
    "\n",
    "n.observe(response, names=\"value\")\n",
    " \n",
    " \n",
    "\n",
    "\n",
    "container1 = widgets.HBox([n ])\n",
    "\n",
    "Widget1=widgets.VBox([container1 , g])\n",
    "display(Widget1)\n",
    "\n"
   ]
  },
  {
   "cell_type": "code",
   "execution_count": null,
   "metadata": {},
   "outputs": [],
   "source": []
  }
 ],
 "metadata": {
  "kernelspec": {
   "display_name": "Python 3 (ipykernel)",
   "language": "python",
   "name": "python3"
  },
  "language_info": {
   "codemirror_mode": {
    "name": "ipython",
    "version": 3
   },
   "file_extension": ".py",
   "mimetype": "text/x-python",
   "name": "python",
   "nbconvert_exporter": "python",
   "pygments_lexer": "ipython3",
   "version": "3.7.10"
  }
 },
 "nbformat": 4,
 "nbformat_minor": 4
}

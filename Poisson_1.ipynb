{
    "metadata": {
        "kernelspec": {
            "name": "python3",
            "display_name": "Python 3",
            "language": "python"
        }
    },
    "nbformat": 4,
    "nbformat_minor": 2,
    "cells": [
        {
            "cell_type": "code",
            "execution_count": 1,
            "metadata": {},
            "outputs": [],
            "source": [
                "import pandas as pd\n",
                "from statsmodels.formula.api import poisson\n",
                "import numpy as np\n",
                "import scipy.special as spsp\n",
                "import matplotlib.pyplot as plt\n",
                "%matplotlib inline\n",
                "from ipywidgets import *\n",
                ""
            ]
        },
        {
            "cell_type": "code",
            "execution_count": 2,
            "metadata": {},
            "outputs": [
                {
                    "data": {
                        "text/html": [
                            "\u003cdiv\u003e\n",
                            "\u003cstyle scoped\u003e\n",
                            "    .dataframe tbody tr th:only-of-type {\n",
                            "        vertical-align: middle;\n",
                            "    }\n",
                            "\n",
                            "    .dataframe tbody tr th {\n",
                            "        vertical-align: top;\n",
                            "    }\n",
                            "\n",
                            "    .dataframe thead th {\n",
                            "        text-align: right;\n",
                            "    }\n",
                            "\u003c/style\u003e\n",
                            "\u003ctable border=\"1\" class=\"dataframe\"\u003e\n",
                            "  \u003cthead\u003e\n",
                            "    \u003ctr style=\"text-align: right;\"\u003e\n",
                            "      \u003cth\u003e\u003c/th\u003e\n",
                            "      \u003cth\u003eCookie_ID\u003c/th\u003e\n",
                            "      \u003cth\u003eExposures\u003c/th\u003e\n",
                            "    \u003c/tr\u003e\n",
                            "  \u003c/thead\u003e\n",
                            "  \u003ctbody\u003e\n",
                            "    \u003ctr\u003e\n",
                            "      \u003cth\u003e0\u003c/th\u003e\n",
                            "      \u003ctd\u003e1\u003c/td\u003e\n",
                            "      \u003ctd\u003e0\u003c/td\u003e\n",
                            "    \u003c/tr\u003e\n",
                            "    \u003ctr\u003e\n",
                            "      \u003cth\u003e1\u003c/th\u003e\n",
                            "      \u003ctd\u003e2\u003c/td\u003e\n",
                            "      \u003ctd\u003e0\u003c/td\u003e\n",
                            "    \u003c/tr\u003e\n",
                            "    \u003ctr\u003e\n",
                            "      \u003cth\u003e2\u003c/th\u003e\n",
                            "      \u003ctd\u003e3\u003c/td\u003e\n",
                            "      \u003ctd\u003e3\u003c/td\u003e\n",
                            "    \u003c/tr\u003e\n",
                            "    \u003ctr\u003e\n",
                            "      \u003cth\u003e3\u003c/th\u003e\n",
                            "      \u003ctd\u003e4\u003c/td\u003e\n",
                            "      \u003ctd\u003e49\u003c/td\u003e\n",
                            "    \u003c/tr\u003e\n",
                            "    \u003ctr\u003e\n",
                            "      \u003cth\u003e4\u003c/th\u003e\n",
                            "      \u003ctd\u003e5\u003c/td\u003e\n",
                            "      \u003ctd\u003e4\u003c/td\u003e\n",
                            "    \u003c/tr\u003e\n",
                            "  \u003c/tbody\u003e\n",
                            "\u003c/table\u003e\n",
                            "\u003c/div\u003e"
                        ],
                        "text/plain": [
                            "   Cookie_ID  Exposures\n",
                            "0          1          0\n",
                            "1          2          0\n",
                            "2          3          3\n",
                            "3          4         49\n",
                            "4          5          4"
                        ]
                    },
                    "execution_count": 2,
                    "metadata": {},
                    "output_type": "execute_result"
                }
            ],
            "source": [
                "Ads=pd.read_csv(\"Ad_Exposure.csv\")\n",
                "Ads.head()"
            ]
        },
        {
            "cell_type": "code",
            "execution_count": 3,
            "metadata": {},
            "outputs": [
                {
                    "data": {
                        "application/vnd.jupyter.widget-view+json": {
                            "model_id": "5868cbdccaca4658b57aa3f26f882bc2",
                            "version_major": 2,
                            "version_minor": 0
                        },
                        "text/plain": [
                            "interactive(children=(FloatSlider(value=2.0, description='lmbda', max=4.0), Output()), _dom_classes=('widget-i…"
                        ]
                    },
                    "metadata": {},
                    "output_type": "display_data"
                }
            ],
            "source": [
                "def plot_pmf(lmbda):\n",
                "    #plot the theoretical Poisson distribution given a lambda\n",
                "    y=np.arange(0,np.max(Ads[\"Exposures\"])+1)\n",
                "    Poisson_PMF=np.exp(-lmbda)*lmbda**y/spsp.factorial(y)\n",
                "    #plot the sample distribution\n",
                "    outcomes, counts=np.unique(Ads[\"Exposures\"],return_counts=True)    \n",
                "    plt.bar(outcomes,counts/np.sum(counts))\n",
                "    plt.plot(y,Poisson_PMF,marker=\"o\",color=\"orange\")\n",
                "    plt.ylim(0,1)\n",
                "\n",
                "interactive(plot_pmf,lmbda=FloatSlider(min=0,max=4,step=0.1,value=2))\n",
                ""
            ]
        },
        {
            "cell_type": "code",
            "execution_count": 0,
            "metadata": {},
            "outputs": [],
            "source": [
                ""
            ]
        }
    ]
}
